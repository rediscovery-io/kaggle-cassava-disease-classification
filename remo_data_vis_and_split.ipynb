{
 "cells": [
  {
   "cell_type": "code",
   "execution_count": 1,
   "metadata": {},
   "outputs": [],
   "source": [
    "from PIL import Image\n",
    "import os\n",
    "import glob\n",
    "import random\n",
    "random.seed(4)\n",
    "\n",
    "import pandas as pd\n",
    "import numpy as np\n",
    "import tqdm\n",
    "from sklearn.model_selection import train_test_split\n",
    "\n",
    "import remo\n",
    "remo.set_viewer('jupyter')"
   ]
  },
  {
   "cell_type": "markdown",
   "metadata": {},
   "source": [
    "├── cass\n",
    "    ├── train_images\n",
    "        ├\n",
    "        ├── image_1.jpg\n",
    "        ├── image_2.jpg\n",
    "        ├── ...\n",
    "        ├── train.csv\n",
    "        ├── train_test_split.csv (to generate)"
   ]
  },
  {
   "cell_type": "code",
   "execution_count": 10,
   "metadata": {},
   "outputs": [],
   "source": [
    "mapping = { 0 : \"Cassava Bacterial Blight (CBB)\",\n",
    "            1 : \"Cassava Brown Streak Disease (CBSD)\",\n",
    "            2 : \"Cassava Green Mottle (CGM)\",\n",
    "            3 : \"Cassava Mosaic Disease (CMD)\",\n",
    "            4 : \"Healthy\"\n",
    "          }"
   ]
  },
  {
   "cell_type": "code",
   "execution_count": 3,
   "metadata": {},
   "outputs": [],
   "source": [
    "annotations_file_path = './train.csv'\n",
    "images_path = './train_images/'\n",
    "tags_path = './images_tags.csv'"
   ]
  },
  {
   "cell_type": "code",
   "execution_count": 8,
   "metadata": {},
   "outputs": [
    {
     "data": {
      "text/plain": [
       "'./images_tags.csv'"
      ]
     },
     "execution_count": 8,
     "metadata": {},
     "output_type": "execute_result"
    }
   ],
   "source": [
    "annotations = pd.read_csv(annotations_file_path)\n",
    "\n",
    "temp_train, valid = train_test_split(annotations, stratify=annotations[\"label\"], test_size=0.2)\n",
    "#train, val = train_test_split(temp_train, stratify=temp_train[\"label\"], test_size=0.1)\n",
    "\n",
    "# Creating a dictionary with tags\n",
    "tags_dict =  {'train' : temp_train[\"image_id\"].to_list(),\n",
    "              'valid' : valid[\"image_id\"].to_list()}\n",
    "\n",
    "train_test_split_file_path = os.pa th.join(tags_path) \n",
    "remo.generate_image_tags(tags_dictionary  = tags_dict, \n",
    "                         output_file_path = train_test_split_file_path)"
   ]
  },
  {
   "cell_type": "code",
   "execution_count": 12,
   "metadata": {},
   "outputs": [
    {
     "name": "stdout",
     "output_type": "stream",
     "text": [
      "Acquiring data - completed                                                                           \n",
      "Processing annotation files: 2 of 2 files                                                            Processing data - completed                                                                          \n",
      "Data upload completed\n"
     ]
    }
   ],
   "source": [
    "cass =  remo.create_dataset(name = 'cassava_kaggle_dataset', \n",
    "                              local_files = [images_path, tags_path, annotations_file_path],\n",
    "                              annotation_task = 'Image classification',\n",
    "                              class_encoding = mapping)"
   ]
  },
  {
   "cell_type": "code",
   "execution_count": 14,
   "metadata": {},
   "outputs": [],
   "source": [
    "cass.export_annotations_to_file('remo_train.csv', annotation_format = 'csv', append_path = True, filter_by_tags = ['train'], export_tags=False)\n",
    "cass.export_annotations_to_file('remo_valid.csv', annotation_format = 'csv', append_path = True, filter_by_tags = ['valid'], export_tags=False)"
   ]
  },
  {
   "cell_type": "code",
   "execution_count": 15,
   "metadata": {},
   "outputs": [],
   "source": [
    "%matplotlib inline\n",
    "# PyTorch Lightning Imports\n",
    "import pytorch_lightning as pl\n",
    "from pytorch_lightning.metrics.functional import accuracy\n",
    "from pytorch_lightning.loggers import TensorBoardLogger\n",
    "\n",
    "# PyTorch Imports\n",
    "import torch\n",
    "import torch.nn as nn\n",
    "import torch.nn.functional as F\n",
    "from torch.nn.functional import cross_entropy\n",
    "from torch.utils.data import Dataset, DataLoader\n",
    "import torchvision as tv\n",
    "from torch.optim import Adam, AdamW\n",
    "import torchvision.models as models\n",
    "\n",
    "\n",
    "# Python Libraries\n",
    "import numpy as np\n",
    "import pandas as pd\n",
    "import matplotlib.pyplot as plt\n",
    "import remo\n",
    "remo.set_viewer('jupyter')\n",
    "\n",
    "# Default Python\n",
    "import os\n",
    "from PIL import Image"
   ]
  },
  {
   "cell_type": "code",
   "execution_count": 29,
   "metadata": {},
   "outputs": [],
   "source": [
    "class CustomDataset(Dataset):\n",
    "    def __init__(self, data_path, transforms, mapping = cat_to_idx):\n",
    "        self.data_path = data_path\n",
    "        self.transforms = transforms\n",
    "        self.mapping = cat_to_idx\n",
    "        \n",
    "    def __len__(self):\n",
    "        return len(self.data_path)\n",
    "\n",
    "    def __getitem__(self, idx):\n",
    "\n",
    "        im = Image.open(self.data_path.loc[idx, 'file_name'])\n",
    "        label = int(self.mapping[self.data_path.loc[idx, 'classes']])\n",
    "        \n",
    "        if self.transforms:\n",
    "            im = self.transforms(im)\n",
    "        return im, label\n",
    "\n",
    "train_data = pd.read_csv('remo_train.csv')\n",
    "validation_data = pd.read_csv('remo_valid.csv')\n",
    "\n",
    "means =  [0.485, 0.456, 0.406]\n",
    "stds  =  [0.229, 0.224, 0.225]\n",
    "\n",
    "\n",
    "tv_transforms      =  tv.transforms.Compose([\n",
    "                        tv.transforms.RandomRotation(30),\n",
    "                         tv.transforms.RandomResizedCrop(224),\n",
    "                         tv.transforms.RandomHorizontalFlip(p=0.5),\n",
    "                         tv.transforms.ToTensor(),\n",
    "                         tv.transforms.Normalize(means, stds)])\n",
    "\n",
    "train_dl = DataLoader(CustomDataset(data_path=train_data, transforms=tv_transforms), batch_size=128, num_workers=4, pin_memory=True)\n",
    "val_dl = DataLoader(CustomDataset(data_path=validation_data, transforms=tv_transforms), batch_size = 10, num_workers=4, pin_memory=True)"
   ]
  },
  {
   "cell_type": "code",
   "execution_count": 25,
   "metadata": {},
   "outputs": [],
   "source": [
    "cat_to_idx = {'Cassava bacterial blight (cbb)': 0,\n",
    "              'Cassava brown streak disease (cbsd)': 1,\n",
    "              'Cassava green mottle (cgm)': 2,\n",
    "              'Cassava mosaic disease (cmd)': 3,\n",
    "              'Healthy': 4}"
   ]
  }
 ],
 "metadata": {
  "kernelspec": {
   "display_name": "Python 3",
   "language": "python",
   "name": "python3"
  },
  "language_info": {
   "codemirror_mode": {
    "name": "ipython",
    "version": 3
   },
   "file_extension": ".py",
   "mimetype": "text/x-python",
   "name": "python",
   "nbconvert_exporter": "python",
   "pygments_lexer": "ipython3",
   "version": "3.7.8"
  }
 },
 "nbformat": 4,
 "nbformat_minor": 4
}