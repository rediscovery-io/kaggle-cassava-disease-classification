{
  "nbformat": 4,
  "nbformat_minor": 0,
  "metadata": {
    "colab": {
      "name": "byol.ipynb",
      "provenance": [],
      "collapsed_sections": []
    },
    "kernelspec": {
      "name": "python3",
      "display_name": "Python 3"
    },
    "accelerator": "GPU"
  },
  "cells": [
    {
      "cell_type": "code",
      "metadata": {
        "id": "D_0Ri9395DLl"
      },
      "source": [
        "!pip install byol-pytorch"
      ],
      "execution_count": null,
      "outputs": []
    },
    {
      "cell_type": "code",
      "metadata": {
        "id": "-lPReXdX5Kqh"
      },
      "source": [
        "import torch\n",
        "from byol_pytorch import BYOL\n",
        "from torchvision import models, transforms\n",
        "from torch.utils.data import Dataset, DataLoader\n",
        "import pandas as pd\n",
        "import tqdm\n",
        "from PIL import Image"
      ],
      "execution_count": 37,
      "outputs": []
    },
    {
      "cell_type": "code",
      "metadata": {
        "id": "adcQhmKG5S1h"
      },
      "source": [
        "cat_to_idx = {'Cassava bacterial blight (cbb)': 0,\n",
        "              'Cassava brown streak disease (cbsd)': 1,\n",
        "              'Cassava green mottle (cgm)': 2,\n",
        "              'Cassava mosaic disease (cmd)': 3,\n",
        "              'Healthy': 4}"
      ],
      "execution_count": 18,
      "outputs": []
    },
    {
      "cell_type": "code",
      "metadata": {
        "colab": {
          "base_uri": "https://localhost:8080/"
        },
        "id": "MGOF1z285eST",
        "outputId": "70b13a4f-c884-4932-f073-a8a644f79ec9"
      },
      "source": [
        "from google.colab import drive\n",
        "drive.mount('/gdrive', force_remount=True)"
      ],
      "execution_count": 44,
      "outputs": [
        {
          "output_type": "stream",
          "text": [
            "Mounted at /gdrive\n"
          ],
          "name": "stdout"
        }
      ]
    },
    {
      "cell_type": "code",
      "metadata": {
        "id": "gX6wIAJ55e-A"
      },
      "source": [
        "class CustomDataset(Dataset):\n",
        "    def __init__(self, data_path, transforms, mapping = cat_to_idx):\n",
        "        self.data_path = data_path\n",
        "        self.transforms = transforms\n",
        "        self.mapping = cat_to_idx\n",
        "\n",
        "    def __len__(self):\n",
        "        return len(self.data_path)\n",
        "\n",
        "    def __getitem__(self, idx):\n",
        "\n",
        "        im = Image.open(self.data_path.loc[idx, 'file_name'])\n",
        "        label = int(self.mapping[self.data_path.loc[idx, 'classes']])\n",
        "\n",
        "        if self.transforms:\n",
        "            im = self.transforms(im)\n",
        "        return im, label"
      ],
      "execution_count": 20,
      "outputs": []
    },
    {
      "cell_type": "code",
      "metadata": {
        "id": "iE3vVoOr5gpL"
      },
      "source": [
        "means =  [0.485, 0.456, 0.406]\n",
        "stds  =  [0.229, 0.224, 0.225]\n",
        "\n",
        "train_transforms      =  transforms.Compose([transforms.RandomRotation(30),\n",
        "                                          transforms.RandomResizedCrop(256),\n",
        "                                          transforms.RandomHorizontalFlip(p=0.5),\n",
        "                                          transforms.ToTensor(),\n",
        "                                          transforms.Normalize(means, stds)])\n",
        "\n",
        "\n",
        "val_transforms        =  transforms.Compose([transforms.Resize(256),\n",
        "                                             transforms.CenterCrop(256),\n",
        "                                             transforms.ToTensor(),\n",
        "                                             transforms.Normalize(means, stds)])\n",
        "\n",
        "train_data = pd.read_csv('/content/remo_train.csv')\n",
        "validation_data = pd.read_csv('/content/remo_valid.csv')"
      ],
      "execution_count": 21,
      "outputs": []
    },
    {
      "cell_type": "code",
      "metadata": {
        "id": "auYMXrkW5iLT"
      },
      "source": [
        "train_dl = DataLoader(CustomDataset(data_path=train_data, transforms=train_transforms), batch_size=128, num_workers=4, pin_memory=True)\n",
        "val_dl = DataLoader(CustomDataset(data_path=validation_data, transforms=val_transforms), batch_size = 50, num_workers=4, pin_memory=True)"
      ],
      "execution_count": 22,
      "outputs": []
    },
    {
      "cell_type": "code",
      "metadata": {
        "id": "r5rotMKu5OO8"
      },
      "source": [
        "resnet = models.resnet50(pretrained=True)\n",
        "\n",
        "learner = BYOL(\n",
        "    resnet,\n",
        "    image_size = 256,\n",
        "    hidden_layer = 'avgpool'\n",
        ")\n",
        "\n",
        "learner = learner.cuda()\n",
        "\n",
        "opt = torch.optim.Adam(learner.parameters(), lr=3e-4)"
      ],
      "execution_count": 46,
      "outputs": []
    },
    {
      "cell_type": "code",
      "metadata": {
        "id": "xc_OgrM06DTa"
      },
      "source": [
        "num_epochs = 2"
      ],
      "execution_count": 47,
      "outputs": []
    },
    {
      "cell_type": "code",
      "metadata": {
        "id": "6g5I3KVy6KZ9"
      },
      "source": [
        "for _ in range(num_epochs):\n",
        "   for im, label in tqdm.tqdm_notebook(train_dl):\n",
        "      learner.train()\n",
        "      loss = learner(im.cuda())\n",
        "      opt.zero_grad()\n",
        "\n",
        "      loss.backward()\n",
        "      opt.step()\n",
        "      \n",
        "      learner.update_moving_average()\n",
        "\n",
        "   print('Training Loss : {:.5f}'.format(loss.item()))\n",
        "   with torch.no_grad():\n",
        "      learner.eval()\n",
        "     \n",
        "      for im, labels in tqdm.tqdm_notebook(val_dl):\n",
        "          out = learner(im.cuda())\n",
        "          _, index = torch.max(out, 1)\n",
        "          total += labels.size(0)\n",
        "          correct_preds += (index == labels).sum().item()\n",
        "     \n",
        "   val_acc = 100 * (correct_preds / total)\n",
        "   print('Validation Accuracy is: {:.2f}%'.format(val_acc))"
      ],
      "execution_count": null,
      "outputs": []
    },
    {
      "cell_type": "code",
      "metadata": {
        "id": "AxF9cWL6DmQP"
      },
      "source": [
        "for im, labels in tqdm.tqdm_notebook(val_dl):\n",
        "  learner.online_predictor(im.unsqueeze(0).cuda())"
      ],
      "execution_count": null,
      "outputs": []
    },
    {
      "cell_type": "code",
      "metadata": {
        "id": "CQSru6bjEDSj"
      },
      "source": [
        ""
      ],
      "execution_count": null,
      "outputs": []
    }
  ]
}
